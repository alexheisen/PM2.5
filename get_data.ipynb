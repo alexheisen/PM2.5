{
 "cells": [
  {
   "cell_type": "markdown",
   "metadata": {},
   "source": [
    "### PM2.5 Data (Berkeley Earth)"
   ]
  },
  {
   "cell_type": "markdown",
   "metadata": {},
   "source": [
    "- Bangkok 13.754,100.5014\n",
    "- hourly data since 2016-03-03 (use this one)\n",
    "   - http://berkeleyearth.lbl.gov/air-quality/maps/cities/Thailand/Bangkok/Bangkok.txt\n",
    "- Air4Thai (only latest 2 months) 50t = Chula hospital station\n",
    "   - http://air4thai.pcd.go.th/webV2/history/api/data.php?stationID=50t&param=PM25&type=hr&sdate=2018-10-01&edate=2019-01-17&stime=00&etime=24\n",
    "   - http://air4thai.pcd.go.th/webV2/history/"
   ]
  },
  {
   "cell_type": "markdown",
   "metadata": {},
   "source": [
    "### Weather Data (wunderground.com)\n",
    "- Patumwan Demonstration School weather station, since 2013-12-17 \n",
    "   - https://www.wunderground.com/personal-weather-station/dashboard?ID=IBANGKOK26#history/tdata/s20140210/e20140210/mdaily"
   ]
  },
  {
   "cell_type": "code",
   "execution_count": 1,
   "metadata": {},
   "outputs": [
    {
     "name": "stderr",
     "output_type": "stream",
     "text": [
      "100%|██████████| 10/10 [00:37<00:00,  3.12s/it]\n"
     ]
    }
   ],
   "source": [
    "import requests\n",
    "from requests.adapters import HTTPAdapter\n",
    "from requests.packages.urllib3.util.retry import Retry\n",
    "import json\n",
    "import pandas as pd\n",
    "from datetime import timedelta, date\n",
    "from tqdm import tqdm\n",
    "\n",
    "start_date = date(2016, 3, 3)\n",
    "end_date = date(2019, 1, 28)\n",
    "\n",
    "def requests_retry_session(\n",
    "    retries=3,\n",
    "    backoff_factor=0.3,\n",
    "    status_forcelist=(500, 502, 504),\n",
    "    session=None,\n",
    "):\n",
    "    session = session or requests.Session()\n",
    "    retry = Retry(\n",
    "        total=retries,\n",
    "        read=retries,\n",
    "        connect=retries,\n",
    "        backoff_factor=backoff_factor,\n",
    "        status_forcelist=status_forcelist,\n",
    "    )\n",
    "    adapter = HTTPAdapter(max_retries=retry)\n",
    "    session.mount('http://', adapter)\n",
    "    session.mount('https://', adapter)\n",
    "    return session\n",
    "\n",
    "def daterange(start_date, end_date):\n",
    "    for n in tqdm(range(int ((end_date - start_date).days))):\n",
    "        yield start_date + timedelta(n)\n",
    "\n",
    "write_header = 1\n",
    "write_header_file = 1 # change to 0 to continue without writing header to csv\n",
    "for single_date in daterange(start_date, end_date):\n",
    "    df_daily = pd.DataFrame()\n",
    "    ymd = single_date.strftime(\"%Y%m%d\")\n",
    "    url_test = \"https://api-ak.wunderground.com/api/606f3f6977348613/history_\"+ymd+\"null/units:metric/v:2.0/q/pws:IBANGKOK26.json\"\n",
    "    req = requests.get(url_test)\n",
    "    js = json.loads(req.text)\n",
    "    if js['history']['days'] == []:\n",
    "        print(\"empty data on\",ymd)\n",
    "        continue\n",
    "    for ob in js['history']['days'][0]['observations']:\n",
    "        ob['date'] = ob['date']['iso8601']\n",
    "        df_row = pd.DataFrame(ob, index=[0]) \n",
    "        df_row.index = df_row['date']\n",
    "        df_row = df_row.drop(columns=['date'])\n",
    "        if write_header == 1:\n",
    "            df_daily = df_row\n",
    "            write_header = 0\n",
    "        else:\n",
    "            df_daily = df_daily.append(df_row)\n",
    "\n",
    "    with open('patumwan_weather.csv','a+') as fd:\n",
    "        fd.write(df_daily.to_csv(header=write_header_file))\n",
    "        write_header_file = 0\n"
   ]
  },
  {
   "cell_type": "code",
   "execution_count": null,
   "metadata": {},
   "outputs": [],
   "source": []
  }
 ],
 "metadata": {
  "kernelspec": {
   "display_name": "Python 3",
   "language": "python",
   "name": "python3"
  },
  "language_info": {
   "codemirror_mode": {
    "name": "ipython",
    "version": 3
   },
   "file_extension": ".py",
   "mimetype": "text/x-python",
   "name": "python",
   "nbconvert_exporter": "python",
   "pygments_lexer": "ipython3",
   "version": "3.6.6"
  }
 },
 "nbformat": 4,
 "nbformat_minor": 2
}
